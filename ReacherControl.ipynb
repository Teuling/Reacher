{
 "cells": [
  {
   "cell_type": "code",
   "execution_count": 1,
   "metadata": {},
   "outputs": [
    {
     "name": "stderr",
     "output_type": "stream",
     "text": [
      "INFO:unityagents:\n",
      "'Academy' started successfully!\n",
      "Unity Academy name: Academy\n",
      "        Number of Brains: 1\n",
      "        Number of External Brains : 1\n",
      "        Lesson number : 0\n",
      "        Reset Parameters :\n",
      "\t\tgoal_speed -> 1.0\n",
      "\t\tgoal_size -> 5.0\n",
      "Unity brain name: ReacherBrain\n",
      "        Number of Visual Observations (per agent): 0\n",
      "        Vector Observation space type: continuous\n",
      "        Vector Observation space size (per agent): 33\n",
      "        Number of stacked Vector Observation: 1\n",
      "        Vector Action space type: continuous\n",
      "        Vector Action space size (per agent): 4\n",
      "        Vector Action descriptions: , , , \n"
     ]
    }
   ],
   "source": [
    "import numpy as np\n",
    "import torch\n",
    "from collections import deque\n",
    "import matplotlib.pyplot as plt\n",
    "%matplotlib inline\n",
    "\n",
    "from ddpg_reacher import Agent\n",
    "from unityagents import UnityEnvironment\n",
    "\n",
    "# Load Reacher env with 20 agents\n",
    "env = UnityEnvironment(file_name=r\"Reacher_Windows_x86_64\\Reacher.exe\")\n",
    "\n",
    "brain_name = env.brain_names[0]\n",
    "brain = env.brains[brain_name]\n",
    "env_info = env.reset(train_mode=True)[brain_name]\n",
    "num_agents = len(env_info.agents)\n",
    "action_size = brain.vector_action_space_size\n",
    "states = env_info.vector_observations\n",
    "state_size = states.shape[1] "
   ]
  },
  {
   "cell_type": "code",
   "execution_count": 2,
   "metadata": {},
   "outputs": [],
   "source": [
    "def ddpg(agent, n_episodes=120, max_t=1000, training_mode=True):\n",
    "    \n",
    "    env_info = env.reset(train_mode=training_mode)[brain_name]      # reset the environment    \n",
    "\n",
    "    total_scores = []\n",
    "    \n",
    "    for episode in range(1, n_episodes+1):\n",
    "        env_info = env.reset(train_mode=training_mode)[brain_name]       # reset the environment    \n",
    "        states = env_info.vector_observations                   # get the current state (for each agent)\n",
    "        scores = np.zeros(num_agents)                           # initialize the score (for each agent)\n",
    "        agent.reset()\n",
    "        \n",
    "        for _ in range(max_t):\n",
    "            actions = agent.act(states)\n",
    "\n",
    "            env_info = env.step(actions)[brain_name]            # send all actions to the environment\n",
    "            \n",
    "            rewards = env_info.rewards\n",
    "            next_states = env_info.vector_observations\n",
    "            dones = env_info.local_done\n",
    "            \n",
    "            agent.step(states, actions, rewards, next_states, dones) # send actions to the agent\n",
    "            \n",
    "            scores += env_info.rewards                          # update the score (for each agent)\n",
    "            states = next_states                                # roll over states to next time step\n",
    "            \n",
    "            if np.any(dones):                                   # exit loop if episode finished\n",
    "                break\n",
    "        \n",
    "        total_scores.append([np.mean(scores)])\n",
    "        avg = np.mean(np.array(total_scores).T[0][-100:])\n",
    "        print(f\"Episode {episode}\\t Average 100: {avg:.2f}\\tMean rewards: {np.mean(scores):.2f})\")\n",
    "\n",
    "        if training_mode and np.mean(scores) > 35:\n",
    "            torch.save(agent.actor_local.state_dict(), f'checkpoint_actor.pth')\n",
    "            torch.save(agent.critic_local.state_dict(), f'checkpoint_critic.pth')\n",
    "    \n",
    "    return total_scores, np.mean(np.array(total_scores).T[0][-100:])"
   ]
  },
  {
   "cell_type": "code",
   "execution_count": null,
   "metadata": {},
   "outputs": [],
   "source": [
    "# normal replay buffer\n",
    "agent = Agent(state_size, action_size, None, False, 0)\n",
    "scores, score = ddpg(agent, 100)\n",
    "fig = plt.figure()\n",
    "ax = fig.add_subplot(111)\n",
    "plt.plot(np.arange(1, len(scores)+1), scores)\n",
    "plt.ylabel('Score')\n",
    "plt.xlabel('Episode #')\n",
    "plt.show()"
   ]
  },
  {
   "cell_type": "code",
   "execution_count": null,
   "metadata": {},
   "outputs": [],
   "source": [
    "# priority replay buffer\n",
    "agent = Agent(state_size, action_size, None, True, 0)\n",
    "scores, score = ddpg(agent, 2)\n",
    "fig = plt.figure()\n",
    "ax = fig.add_subplot(111)\n",
    "plt.plot(np.arange(1, len(scores)+1), scores)\n",
    "plt.ylabel('Score')\n",
    "plt.xlabel('Episode #')\n",
    "plt.show()"
   ]
  },
  {
   "cell_type": "code",
   "execution_count": null,
   "metadata": {},
   "outputs": [],
   "source": [
    "# search for optimal hyper parameters\n",
    "import optuna\n",
    "\n",
    "def objective(trial):\n",
    "    buffer_sizes = trial.suggest_int(\"buffer_sizes\", int(1e5), int(1e6))\n",
    "    batch_sizes = trial.suggest_int(\"batch_sizes\", 64, 512, step=16)\n",
    "    gammas = trial.suggest_float(\"gammas\", 0.98, 0.999)\n",
    "    taus = trial.suggest_loguniform(\"taus\", 1e-3, 5e-3)\n",
    "    lr_critic = trial.suggest_loguniform('lr_critic', 1e-4, 3e-4)\n",
    "    lr_actor = trial.suggest_loguniform('lr_actor', 1e-4, 3e-4)\n",
    "    weight_decays = trial.suggest_float(\"weight_decays\", 0, 1e-3)\n",
    "    theta = trial.suggest_loguniform('theta', 0.13, 0.26)\n",
    "    sigma = trial.suggest_loguniform('sigma', 0.18, 0.22)\n",
    "    mu = trial.suggest_float(\"mu\", -0.01, 0.01)\n",
    "\n",
    "    params = buffer_sizes, batch_sizes, gammas, taus, lr_actor, lr_critic, weight_decays, 400, 300, 256, 256, 128, mu, theta, sigma\n",
    "  \n",
    "    agent = Agent(state_size=33, action_size=4, hyper_params=params, PR=False, random_seed=0)\n",
    "    _, score  = ddpg(agent, 40, 1000)\n",
    "    return score  # Return the metric to optimize\n",
    "\n",
    "pruner = optuna.pruners.ThresholdPruner(lower=10.0)\n",
    "\n",
    "study = optuna.create_study(direction=\"maximize\",pruner=pruner)\n",
    "study.optimize(objective, n_trials=25)\n",
    "\n",
    "print(\"Best hyperparameters: \", study.best_params)\n"
   ]
  },
  {
   "cell_type": "code",
   "execution_count": null,
   "metadata": {},
   "outputs": [],
   "source": [
    "# load actor with saved weights, run ddpg in evaluation mode\n",
    "\n",
    "agent = Agent(state_size, action_size, None, False, 0)\n",
    "agent.actor_local.load_state_dict(torch.load('checkpoint_actor.pth'))\n",
    "scores, score = ddpg(agent, 2, False)\n",
    "fig = plt.figure()\n",
    "ax = fig.add_subplot(111)\n",
    "plt.plot(np.arange(1, len(scores)+1), scores)\n",
    "plt.ylabel('Score')\n",
    "plt.xlabel('Episode #')\n",
    "plt.show()"
   ]
  }
 ],
 "metadata": {
  "kernelspec": {
   "display_name": "drlnd",
   "language": "python",
   "name": "drlnd"
  },
  "language_info": {
   "codemirror_mode": {
    "name": "ipython",
    "version": 3
   },
   "file_extension": ".py",
   "mimetype": "text/x-python",
   "name": "python",
   "nbconvert_exporter": "python",
   "pygments_lexer": "ipython3",
   "version": "3.6.13"
  }
 },
 "nbformat": 4,
 "nbformat_minor": 2
}
